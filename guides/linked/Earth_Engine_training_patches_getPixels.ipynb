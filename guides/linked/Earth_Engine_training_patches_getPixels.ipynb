{
  "nbformat": 4,
  "nbformat_minor": 0,
  "metadata": {
    "colab": {
      "provenance": []
    },
    "kernelspec": {
      "name": "python3",
      "display_name": "Python 3"
    },
    "language_info": {
      "name": "python"
    }
  },
  "cells": [
    {
      "cell_type": "code",
      "metadata": {
        "id": "fSIfBsgi8dNK"
      },
      "source": [
        "#@title Copyright 2023 Google LLC. { display-mode: \"form\" }\n",
        "# Licensed under the Apache License, Version 2.0 (the \"License\");\n",
        "# you may not use this file except in compliance with the License.\n",
        "# You may obtain a copy of the License at\n",
        "#\n",
        "# https://www.apache.org/licenses/LICENSE-2.0\n",
        "#\n",
        "# Unless required by applicable law or agreed to in writing, software\n",
        "# distributed under the License is distributed on an \"AS IS\" BASIS,\n",
        "# WITHOUT WARRANTIES OR CONDITIONS OF ANY KIND, either express or implied.\n",
        "# See the License for the specific language governing permissions and\n",
        "# limitations under the License."
      ],
      "execution_count": 1,
      "outputs": []
    },
    {
      "cell_type": "markdown",
      "metadata": {
        "id": "aV1xZ1CPi3Nw"
      },
      "source": [
        "<table class=\"ee-notebook-buttons\" align=\"left\"><td>\n",
        "<a target=\"_blank\"  href=\"http://colab.research.google.com/github/google/earthengine-community/blob/master/guides/linked/Earth_Engine_training_patches_getPixels.ipynb\">\n",
        "    <img src=\"https://www.tensorflow.org/images/colab_logo_32px.png\" /> Run in Google Colab</a>\n",
        "</td><td>\n",
        "<a target=\"_blank\"  href=\"https://github.com/google/earthengine-community/blob/master/guides/linked/Earth_Engine_training_patches_getPixels.ipynb\"><img width=32px src=\"https://www.tensorflow.org/images/GitHub-Mark-32px.png\" /> View source on GitHub</a></td></table>"
      ]
    },
    {
      "cell_type": "markdown",
      "source": [
        "# Download training patches from Earth Engine\n",
        "\n",
        "This demonstration shows how to get patches of imagery from Earth Engine assets.  Specifically, use `getPixels` calls in parallel to write a TFRecord file."
      ],
      "metadata": {
        "id": "9SV-E0p6PpGr"
      }
    },
    {
      "cell_type": "markdown",
      "source": [
        "## Imports"
      ],
      "metadata": {
        "id": "uvlyhBESPQKW"
      }
    },
    {
      "cell_type": "code",
      "execution_count": 2,
      "metadata": {
        "id": "rppQiHjZPX_y"
      },
      "outputs": [],
      "source": [
        "import concurrent\n",
        "import ee\n",
        "import google\n",
        "import io\n",
        "import json\n",
        "import matplotlib.pyplot as plt\n",
        "import matplotlib.animation as animation\n",
        "import multiprocessing\n",
        "import numpy as np\n",
        "import requests\n",
        "import tensorflow as tf\n",
        "\n",
        "from google.api_core import retry\n",
        "from google.colab import auth\n",
        "from google.protobuf import json_format\n",
        "from IPython.display import Image\n",
        "from matplotlib import rc\n",
        "from tqdm.notebook import tqdm\n",
        "\n",
        "rc('animation', html='html5')"
      ]
    },
    {
      "cell_type": "markdown",
      "source": [
        "## Authentication and initialization\n",
        "\n",
        "Use the Colab auth widget to get credentials, then use them to initialize Earth Engine.  During initialization, be sure to specify a project and Earth Engine's [high-volume endpoint](https://developers.google.com/earth-engine/cloud/highvolume), in order to make automated requests."
      ],
      "metadata": {
        "id": "pbLzoz4klKwH"
      }
    },
    {
      "cell_type": "code",
      "source": [
        "# REPLACE WITH YOUR PROJECT!\n",
        "PROJECT = 'ee-clarkwakeland7'"
      ],
      "metadata": {
        "id": "HN5H25U_JBdp"
      },
      "execution_count": 3,
      "outputs": []
    },
    {
      "cell_type": "code",
      "source": [
        "auth.authenticate_user()"
      ],
      "metadata": {
        "id": "TLmI05-wT_GD"
      },
      "execution_count": 4,
      "outputs": []
    },
    {
      "cell_type": "code",
      "source": [
        "credentials, _ = google.auth.default()\n",
        "ee.Initialize(credentials, project=PROJECT, opt_url='https://earthengine-highvolume.googleapis.com')"
      ],
      "metadata": {
        "id": "c5bEkwQHUDPS"
      },
      "execution_count": 5,
      "outputs": []
    },
    {
      "cell_type": "markdown",
      "source": [
        "## Define variables"
      ],
      "metadata": {
        "id": "q7rHLQsPuwyb"
      }
    },
    {
      "cell_type": "code",
      "source": [
        "# REPLACE WITH YOUR BUCKET!\n",
        "OUTPUT_FILE = 'gs://exampl_ee_bucket/test_images.tfrecord.gz'\n",
        "\n",
        "# MODIS vegetation indices, 16-day.\n",
        "VNP13A1 = ee.ImageCollection(\"NASA/VIIRS/002/VNP13A1\").select('NDVI')\n",
        "\n",
        "# Output resolution in meters.\n",
        "SCALE = 1000\n",
        "\n",
        "# Bay area.\n",
        "ROI = ee.Geometry.Rectangle(\n",
        "    [-123.00119889981346, 38.187882211250646,\n",
        "    -121.68341106988069, 37.26978475398253])\n",
        "\n",
        "# Number of samples per ROI, per year, and per TFRecord file.\n",
        "N = 64\n",
        "\n",
        "# A random sample of N locations in the ROI as a list of GeoJSON points.\n",
        "SAMPLE = ee.FeatureCollection.randomPoints(\n",
        "    region=ROI, points=N, maxError=1).aggregate_array('.geo').getInfo()\n",
        "\n",
        "# The years from which to sample every 16-day composite.\n",
        "YEARS = np.arange(2010, 2023)"
      ],
      "metadata": {
        "id": "hj_ZujvvFlGR"
      },
      "execution_count": 6,
      "outputs": []
    },
    {
      "cell_type": "code",
      "source": [
        "GRIDMET = ee.ImageCollection('IDAHO_EPSCOR/GRIDMET').select('erc')\n",
        "GRIDMET = GRIDMET.filterBounds(ROI).filter(ee.Filter.date('2017-01-01', '2020-12-31'))\n",
        "VNP13A1 =  ee.ImageCollection(\"NASA/VIIRS/002/VNP13A1\").select('NDVI')\n",
        "filtered_VNP13A1 = VNP13A1.filterBounds(ROI).filterDate('2017-01-01', '2020-12-31') # Adjust dates as needed\n",
        "imageG = GRIDMET.first()\n",
        "band_names = imageG.bandNames()\n",
        "band_names.getInfo()"
      ],
      "metadata": {
        "id": "vreJ6ipwHGid",
        "outputId": "d093d58e-e552-47f9-b5b5-e9d371d3ab27",
        "colab": {
          "base_uri": "https://localhost:8080/",
          "height": 193
        }
      },
      "execution_count": 7,
      "outputs": [
        {
          "output_type": "error",
          "ename": "NameError",
          "evalue": "name 'image' is not defined",
          "traceback": [
            "\u001b[0;31m---------------------------------------------------------------------------\u001b[0m",
            "\u001b[0;31mNameError\u001b[0m                                 Traceback (most recent call last)",
            "\u001b[0;32m<ipython-input-7-95e9bd4a7bb2>\u001b[0m in \u001b[0;36m<cell line: 6>\u001b[0;34m()\u001b[0m\n\u001b[1;32m      4\u001b[0m \u001b[0mfiltered_VNP13A1\u001b[0m \u001b[0;34m=\u001b[0m \u001b[0mVNP13A1\u001b[0m\u001b[0;34m.\u001b[0m\u001b[0mfilterBounds\u001b[0m\u001b[0;34m(\u001b[0m\u001b[0mROI\u001b[0m\u001b[0;34m)\u001b[0m\u001b[0;34m.\u001b[0m\u001b[0mfilterDate\u001b[0m\u001b[0;34m(\u001b[0m\u001b[0;34m'2017-01-01'\u001b[0m\u001b[0;34m,\u001b[0m \u001b[0;34m'2020-12-31'\u001b[0m\u001b[0;34m)\u001b[0m \u001b[0;31m# Adjust dates as needed\u001b[0m\u001b[0;34m\u001b[0m\u001b[0;34m\u001b[0m\u001b[0m\n\u001b[1;32m      5\u001b[0m \u001b[0mimageG\u001b[0m \u001b[0;34m=\u001b[0m \u001b[0mGRIDMET\u001b[0m\u001b[0;34m.\u001b[0m\u001b[0mfirst\u001b[0m\u001b[0;34m(\u001b[0m\u001b[0;34m)\u001b[0m\u001b[0;34m\u001b[0m\u001b[0;34m\u001b[0m\u001b[0m\n\u001b[0;32m----> 6\u001b[0;31m \u001b[0mband_names\u001b[0m \u001b[0;34m=\u001b[0m \u001b[0mimage\u001b[0m\u001b[0;34m.\u001b[0m\u001b[0mbandNames\u001b[0m\u001b[0;34m(\u001b[0m\u001b[0;34m)\u001b[0m\u001b[0;34m\u001b[0m\u001b[0;34m\u001b[0m\u001b[0m\n\u001b[0m\u001b[1;32m      7\u001b[0m \u001b[0mband_names\u001b[0m\u001b[0;34m.\u001b[0m\u001b[0mgetInfo\u001b[0m\u001b[0;34m(\u001b[0m\u001b[0;34m)\u001b[0m\u001b[0;34m\u001b[0m\u001b[0;34m\u001b[0m\u001b[0m\n",
            "\u001b[0;31mNameError\u001b[0m: name 'image' is not defined"
          ]
        }
      ]
    },
    {
      "cell_type": "code",
      "source": [
        "# REPLACE WITH YOUR BUCKET!\n",
        "OUTPUT_FILE = 'gs://exampl_ee_bucket/test_images.tfrecord.gz'\n",
        "\n",
        "# MODIS vegetation indices, 16-day.\n",
        "VNP13A1 =  ee.ImageCollection(\"NASA/VIIRS/002/VNP13A1\").select('NDVI')\n",
        "\n",
        "# Output resolution in meters.\n",
        "SCALE = 250\n",
        "\n",
        "# Bay area.\n",
        "ROI = ee.Geometry.Rectangle(\n",
        "    [-122.53559186128896, 37.81307980878117,\n",
        "    -122.35606622214631,  37.70342746748379])\n",
        "\n",
        "VNP13A1"
      ],
      "metadata": {
        "id": "KGmxNkmeu-_o"
      },
      "execution_count": null,
      "outputs": []
    },
    {
      "cell_type": "code",
      "source": [
        "feature = filtered_VNP13A1.first()  # Example: first image\n",
        "rep_image = feature.reproject(crs='EPSG:4326', scale=1000)\n",
        "rep_imageG = imageG.reproject(crs='EPSG:4326', scale=1000)\n",
        "data = rep_image.sampleRectangle(region = ROI, properties=['NDVI'], defaultValue=0)\n",
        "dataG = rep_imageG.sampleRectangle(region = ROI, properties=['erc'], defaultValue=0)\n",
        "data_dict = data.getInfo()\n",
        "dataG_dict = dataG.getInfo()\n",
        "vals = data_dict['properties']['NDVI']\n",
        "valsG = dataG_dict['properties']['erc']"
      ],
      "metadata": {
        "id": "adTjeXoX5GV4"
      },
      "execution_count": null,
      "outputs": []
    },
    {
      "cell_type": "code",
      "source": [
        "import matplotlib.colors as mcolors\n",
        "\n",
        "plt.subplot(211)\n",
        "plt.imshow(vals, vmin=-0.2, vmax=1, cmap='viridis', interpolation='nearest')\n",
        "plt.colorbar(label='NDVI')\n",
        "plt.subplot(212)\n",
        "plt.imshow(valsG, vmax = 0.2, cmap='viridis', interpolation='nearest')\n",
        "plt.colorbar(label='Energy release component')\n",
        "plt.show()"
      ],
      "metadata": {
        "colab": {
          "base_uri": "https://localhost:8080/",
          "height": 435
        },
        "id": "RD2TqROAcQJZ",
        "outputId": "5bd25250-ee01-4eb2-9c0d-4c3390f16810"
      },
      "execution_count": null,
      "outputs": [
        {
          "output_type": "display_data",
          "data": {
            "text/plain": [
              "<Figure size 640x480 with 4 Axes>"
            ],
            "image/png": "[encoded data removed]"
          },
          "metadata": {}
        }
      ]
    },
    {
      "cell_type": "markdown",
      "source": [
        "## Image retrieval functions\n",
        "\n",
        "This section has a function to get a 1000x1000 meter patch of pixels from an asset, centered on the provided coordinates, as a numpy array.  The function can be retried automatically by using the [Retry](https://googleapis.dev/python/google-api-core/latest/retry.html) decorator.  There is also a function to serialize a structured array to a `tf.Example` proto."
      ],
      "metadata": {
        "id": "vbEM4nlUOmQn"
      }
    },
    {
      "source": [
        "import pyproj\n",
        "import numpy as np\n",
        "modis_data = np.array(vals)\n",
        "# Define source and target projections\n",
        "source_crs = 'SR-ORG:6974'  # MODIS Sinusoidal\n",
        "target_crs = 'EPSG:4326'  # Geographic (WGS 84)\n",
        "\n",
        "# Create pyproj transformer\n",
        "transformer = pyproj.Transformer.from_crs(source_crs, target_crs, always_xy=True)\n",
        "\n",
        "# Assuming 'modis_data' is your NumPy array containing the MODIS data\n",
        "height, width = modis_data.shape\n",
        "\n",
        "# Get the pixel resolution (assuming it's constant)\n",
        "# You might need to adjust this based on your MODIS data metadata\n",
        "pixel_size = 250  # Example: 250 meters\n",
        "\n",
        "# Create arrays of x and y coordinates in the source projection\n",
        "x_coords = np.arange(0, width) * pixel_size\n",
        "y_coords = np.arange(0, height) * pixel_size\n",
        "\n",
        "# Create a grid of coordinates\n",
        "xx, yy = np.meshgrid(x_coords, y_coords)\n",
        "\n",
        "# Transform the coordinates to the target projection\n",
        "lon, lat = transformer.transform(xx, yy)\n",
        "\n",
        "# Now you have 'lon' and 'lat' arrays representing the reprojected coordinates\n",
        "# You can use these to plot the data or further process it\n",
        "\n",
        "# Example: plot the reprojected data using matplotlib\n",
        "import matplotlib.pyplot as plt\n",
        "plt.imshow(modis_data, extent=[lon.min(), lon.max(), lat.min(), lat.max()])\n",
        "plt.show()"
      ],
      "cell_type": "code",
      "metadata": {
        "colab": {
          "base_uri": "https://localhost:8080/",
          "height": 269
        },
        "id": "t8BNLqI9jcDl",
        "outputId": "ba23ad8b-8353-488c-ab01-822c2a5d9a05"
      },
      "execution_count": null,
      "outputs": [
        {
          "output_type": "display_data",
          "data": {
            "text/plain": [
              "<IPython.core.display.HTML object>"
            ],
            "text/html": [
              "\n",
              "            <style>\n",
              "                .geemap-dark {\n",
              "                    --jp-widgets-color: white;\n",
              "                    --jp-widgets-label-color: white;\n",
              "                    --jp-ui-font-color1: white;\n",
              "                    --jp-layout-color2: #454545;\n",
              "                    background-color: #383838;\n",
              "                }\n",
              "\n",
              "                .geemap-dark .jupyter-button {\n",
              "                    --jp-layout-color3: #383838;\n",
              "                }\n",
              "\n",
              "                .geemap-colab {\n",
              "                    background-color: var(--colab-primary-surface-color, white);\n",
              "                }\n",
              "\n",
              "                .geemap-colab .jupyter-button {\n",
              "                    --jp-layout-color3: var(--colab-primary-surface-color, white);\n",
              "                }\n",
              "            </style>\n",
              "            "
            ]
          },
          "metadata": {}
        },
        {
          "output_type": "error",
          "ename": "CRSError",
          "evalue": "Invalid projection: SR-ORG:6974: (Internal Proj Error: proj_create: crs not found: SR-ORG:6974)",
          "traceback": [
            "\u001b[0;31m---------------------------------------------------------------------------\u001b[0m",
            "\u001b[0;31mCRSError\u001b[0m                                  Traceback (most recent call last)",
            "\u001b[0;32m<ipython-input-52-afa7f3bf07b1>\u001b[0m in \u001b[0;36m<cell line: 9>\u001b[0;34m()\u001b[0m\n\u001b[1;32m      7\u001b[0m \u001b[0;34m\u001b[0m\u001b[0m\n\u001b[1;32m      8\u001b[0m \u001b[0;31m# Create pyproj transformer\u001b[0m\u001b[0;34m\u001b[0m\u001b[0;34m\u001b[0m\u001b[0m\n\u001b[0;32m----> 9\u001b[0;31m \u001b[0mtransformer\u001b[0m \u001b[0;34m=\u001b[0m \u001b[0mpyproj\u001b[0m\u001b[0;34m.\u001b[0m\u001b[0mTransformer\u001b[0m\u001b[0;34m.\u001b[0m\u001b[0mfrom_crs\u001b[0m\u001b[0;34m(\u001b[0m\u001b[0msource_crs\u001b[0m\u001b[0;34m,\u001b[0m \u001b[0mtarget_crs\u001b[0m\u001b[0;34m,\u001b[0m \u001b[0malways_xy\u001b[0m\u001b[0;34m=\u001b[0m\u001b[0;32mTrue\u001b[0m\u001b[0;34m)\u001b[0m\u001b[0;34m\u001b[0m\u001b[0;34m\u001b[0m\u001b[0m\n\u001b[0m\u001b[1;32m     10\u001b[0m \u001b[0;34m\u001b[0m\u001b[0m\n\u001b[1;32m     11\u001b[0m \u001b[0;31m# Assuming 'modis_data' is your NumPy array containing the MODIS data\u001b[0m\u001b[0;34m\u001b[0m\u001b[0;34m\u001b[0m\u001b[0m\n",
            "\u001b[0;32m/usr/local/lib/python3.10/dist-packages/pyproj/transformer.py\u001b[0m in \u001b[0;36mfrom_crs\u001b[0;34m(crs_from, crs_to, always_xy, area_of_interest, authority, accuracy, allow_ballpark, force_over, only_best)\u001b[0m\n\u001b[1;32m    625\u001b[0m         return Transformer(\n\u001b[1;32m    626\u001b[0m             TransformerFromCRS(\n\u001b[0;32m--> 627\u001b[0;31m                 \u001b[0mcstrencode\u001b[0m\u001b[0;34m(\u001b[0m\u001b[0mCRS\u001b[0m\u001b[0;34m.\u001b[0m\u001b[0mfrom_user_input\u001b[0m\u001b[0;34m(\u001b[0m\u001b[0mcrs_from\u001b[0m\u001b[0;34m)\u001b[0m\u001b[0;34m.\u001b[0m\u001b[0msrs\u001b[0m\u001b[0;34m)\u001b[0m\u001b[0;34m,\u001b[0m\u001b[0;34m\u001b[0m\u001b[0;34m\u001b[0m\u001b[0m\n\u001b[0m\u001b[1;32m    628\u001b[0m                 \u001b[0mcstrencode\u001b[0m\u001b[0;34m(\u001b[0m\u001b[0mCRS\u001b[0m\u001b[0;34m.\u001b[0m\u001b[0mfrom_user_input\u001b[0m\u001b[0;34m(\u001b[0m\u001b[0mcrs_to\u001b[0m\u001b[0;34m)\u001b[0m\u001b[0;34m.\u001b[0m\u001b[0msrs\u001b[0m\u001b[0;34m)\u001b[0m\u001b[0;34m,\u001b[0m\u001b[0;34m\u001b[0m\u001b[0;34m\u001b[0m\u001b[0m\n\u001b[1;32m    629\u001b[0m                 \u001b[0malways_xy\u001b[0m\u001b[0;34m=\u001b[0m\u001b[0malways_xy\u001b[0m\u001b[0;34m,\u001b[0m\u001b[0;34m\u001b[0m\u001b[0;34m\u001b[0m\u001b[0m\n",
            "\u001b[0;32m/usr/local/lib/python3.10/dist-packages/pyproj/crs/crs.py\u001b[0m in \u001b[0;36mfrom_user_input\u001b[0;34m(cls, value, **kwargs)\u001b[0m\n\u001b[1;32m    501\u001b[0m         \u001b[0;32mif\u001b[0m \u001b[0misinstance\u001b[0m\u001b[0;34m(\u001b[0m\u001b[0mvalue\u001b[0m\u001b[0;34m,\u001b[0m \u001b[0mcls\u001b[0m\u001b[0;34m)\u001b[0m\u001b[0;34m:\u001b[0m\u001b[0;34m\u001b[0m\u001b[0;34m\u001b[0m\u001b[0m\n\u001b[1;32m    502\u001b[0m             \u001b[0;32mreturn\u001b[0m \u001b[0mvalue\u001b[0m\u001b[0;34m\u001b[0m\u001b[0;34m\u001b[0m\u001b[0m\n\u001b[0;32m--> 503\u001b[0;31m         \u001b[0;32mreturn\u001b[0m \u001b[0mcls\u001b[0m\u001b[0;34m(\u001b[0m\u001b[0mvalue\u001b[0m\u001b[0;34m,\u001b[0m \u001b[0;34m**\u001b[0m\u001b[0mkwargs\u001b[0m\u001b[0;34m)\u001b[0m\u001b[0;34m\u001b[0m\u001b[0;34m\u001b[0m\u001b[0m\n\u001b[0m\u001b[1;32m    504\u001b[0m \u001b[0;34m\u001b[0m\u001b[0m\n\u001b[1;32m    505\u001b[0m     \u001b[0;32mdef\u001b[0m \u001b[0mget_geod\u001b[0m\u001b[0;34m(\u001b[0m\u001b[0mself\u001b[0m\u001b[0;34m)\u001b[0m \u001b[0;34m->\u001b[0m \u001b[0mGeod\u001b[0m \u001b[0;34m|\u001b[0m \u001b[0;32mNone\u001b[0m\u001b[0;34m:\u001b[0m\u001b[0;34m\u001b[0m\u001b[0;34m\u001b[0m\u001b[0m\n",
            "\u001b[0;32m/usr/local/lib/python3.10/dist-packages/pyproj/crs/crs.py\u001b[0m in \u001b[0;36m__init__\u001b[0;34m(self, projparams, **kwargs)\u001b[0m\n\u001b[1;32m    348\u001b[0m             \u001b[0mself\u001b[0m\u001b[0;34m.\u001b[0m\u001b[0m_local\u001b[0m\u001b[0;34m.\u001b[0m\u001b[0mcrs\u001b[0m \u001b[0;34m=\u001b[0m \u001b[0mprojparams\u001b[0m\u001b[0;34m\u001b[0m\u001b[0;34m\u001b[0m\u001b[0m\n\u001b[1;32m    349\u001b[0m         \u001b[0;32melse\u001b[0m\u001b[0;34m:\u001b[0m\u001b[0;34m\u001b[0m\u001b[0;34m\u001b[0m\u001b[0m\n\u001b[0;32m--> 350\u001b[0;31m             \u001b[0mself\u001b[0m\u001b[0;34m.\u001b[0m\u001b[0m_local\u001b[0m\u001b[0;34m.\u001b[0m\u001b[0mcrs\u001b[0m \u001b[0;34m=\u001b[0m \u001b[0m_CRS\u001b[0m\u001b[0;34m(\u001b[0m\u001b[0mself\u001b[0m\u001b[0;34m.\u001b[0m\u001b[0msrs\u001b[0m\u001b[0;34m)\u001b[0m\u001b[0;34m\u001b[0m\u001b[0;34m\u001b[0m\u001b[0m\n\u001b[0m\u001b[1;32m    351\u001b[0m \u001b[0;34m\u001b[0m\u001b[0m\n\u001b[1;32m    352\u001b[0m     \u001b[0;34m@\u001b[0m\u001b[0mproperty\u001b[0m\u001b[0;34m\u001b[0m\u001b[0;34m\u001b[0m\u001b[0m\n",
            "\u001b[0;32m/usr/local/lib/python3.10/dist-packages/pyproj/_crs.pyx\u001b[0m in \u001b[0;36mpyproj._crs._CRS.__init__\u001b[0;34m()\u001b[0m\n",
            "\u001b[0;31mCRSError\u001b[0m: Invalid projection: SR-ORG:6974: (Internal Proj Error: proj_create: crs not found: SR-ORG:6974)"
          ]
        }
      ]
    },
    {
      "cell_type": "code",
      "source": [],
      "metadata": {
        "id": "YPzh1DHXimcL"
      },
      "execution_count": null,
      "outputs": []
    },
    {
      "cell_type": "code",
      "source": [
        "@retry.Retry()\n",
        "def get_patch(coords, asset_id, band):\n",
        "  \"\"\"Get a patch of pixels from an asset, centered on the coords.\"\"\"\n",
        "  point = ee.Geometry.Point(coords)\n",
        "  request = {\n",
        "    'fileFormat': 'NPY',\n",
        "    'bandIds': [band],\n",
        "    'region': point.buffer(1000).bounds().getInfo(),\n",
        "    'assetId': asset_id\n",
        "  }\n",
        "  return np.load(io.BytesIO(ee.data.getPixels(request)))[band]\n",
        "\n",
        "\n",
        "def _float_feature(floats):\n",
        "  \"\"\"Returns a float_list from a float list.\"\"\"\n",
        "  return tf.train.Feature(float_list=tf.train.FloatList(value=floats))\n",
        "\n",
        "\n",
        "def array_to_example(struct_array):\n",
        "  \"\"\"\"Serialize a structured numpy array into a tf.Example proto.\"\"\"\n",
        "  struct_names = struct_array.dtype.names\n",
        "  feature = {}\n",
        "  shape = np.shape(struct_array[struct_names[0]])\n",
        "  feature['h'] = _float_feature([shape[1]])\n",
        "  feature['w'] = _float_feature([shape[2]])\n",
        "  for f in struct_names:\n",
        "    feature[f] = _float_feature(struct_array[f].flatten())\n",
        "  return tf.train.Example(\n",
        "      features = tf.train.Features(feature = feature))"
      ],
      "metadata": {
        "id": "NeKS5M-kRT4r"
      },
      "execution_count": null,
      "outputs": []
    },
    {
      "cell_type": "markdown",
      "source": [
        "# Get patches from the images\n",
        "\n",
        "In the variable declarations, there's a random sample in an arbitrary region of interest and a year range.  At each point in the sample, in each year, in each 16-day composite, get a patch.  The patch extraction is handled in multiple threads using a `ThreadPoolExecutor`.  Write into TFRecords where each record stores all patches for a (point, year) combination."
      ],
      "metadata": {
        "id": "H-3tJLl4WRkS"
      }
    },
    {
      "cell_type": "code",
      "source": [
        "executor = concurrent.futures.ThreadPoolExecutor(max_workers=200)\n",
        "\n",
        "writer = tf.io.TFRecordWriter(OUTPUT_FILE, 'GZIP')\n",
        "\n",
        "for point in tqdm(SAMPLE):\n",
        "  for year in tqdm(YEARS):\n",
        "    year = int(year)\n",
        "    images = MOD13Q1.filter(\n",
        "        ee.Filter.calendarRange(year, year, 'year')).getInfo()['features']\n",
        "\n",
        "    future_to_image = {\n",
        "        executor.submit(get_patch, point['coordinates'], image['id'], 'NDVI'):\n",
        "            image['id'] for image in images\n",
        "    }\n",
        "\n",
        "    arrays = ()\n",
        "    types = []\n",
        "    for future in concurrent.futures.as_completed(future_to_image):\n",
        "      image_id = future_to_image[future]\n",
        "      image_name = image_id.split('/')[-1]\n",
        "      try:\n",
        "          np_array = future.result()\n",
        "          arrays += (np_array,)\n",
        "          types.append((image_name, np.int_, np_array.shape))\n",
        "      except Exception as e:\n",
        "          print(e)\n",
        "          pass\n",
        "    array = np.array([arrays], types)\n",
        "    example_proto = array_to_example(array)\n",
        "    writer.write(example_proto.SerializeToString())\n",
        "    writer.flush()\n",
        "\n",
        "writer.close()"
      ],
      "metadata": {
        "id": "Hs_FozNIQFXI",
        "colab": {
          "base_uri": "https://localhost:8080/",
          "height": 211
        },
        "outputId": "857a632f-5f63-4b95-c963-8be90515946f"
      },
      "execution_count": null,
      "outputs": [
        {
          "output_type": "error",
          "ename": "NameError",
          "evalue": "name 'concurrent' is not defined",
          "traceback": [
            "\u001b[0;31m---------------------------------------------------------------------------\u001b[0m",
            "\u001b[0;31mNameError\u001b[0m                                 Traceback (most recent call last)",
            "\u001b[0;32m<ipython-input-1-a6f752205af0>\u001b[0m in \u001b[0;36m<cell line: 1>\u001b[0;34m()\u001b[0m\n\u001b[0;32m----> 1\u001b[0;31m \u001b[0mexecutor\u001b[0m \u001b[0;34m=\u001b[0m \u001b[0mconcurrent\u001b[0m\u001b[0;34m.\u001b[0m\u001b[0mfutures\u001b[0m\u001b[0;34m.\u001b[0m\u001b[0mThreadPoolExecutor\u001b[0m\u001b[0;34m(\u001b[0m\u001b[0mmax_workers\u001b[0m\u001b[0;34m=\u001b[0m\u001b[0;36m200\u001b[0m\u001b[0;34m)\u001b[0m\u001b[0;34m\u001b[0m\u001b[0;34m\u001b[0m\u001b[0m\n\u001b[0m\u001b[1;32m      2\u001b[0m \u001b[0;34m\u001b[0m\u001b[0m\n\u001b[1;32m      3\u001b[0m \u001b[0mwriter\u001b[0m \u001b[0;34m=\u001b[0m \u001b[0mtf\u001b[0m\u001b[0;34m.\u001b[0m\u001b[0mio\u001b[0m\u001b[0;34m.\u001b[0m\u001b[0mTFRecordWriter\u001b[0m\u001b[0;34m(\u001b[0m\u001b[0mOUTPUT_FILE\u001b[0m\u001b[0;34m,\u001b[0m \u001b[0;34m'GZIP'\u001b[0m\u001b[0;34m)\u001b[0m\u001b[0;34m\u001b[0m\u001b[0;34m\u001b[0m\u001b[0m\n\u001b[1;32m      4\u001b[0m \u001b[0;34m\u001b[0m\u001b[0m\n\u001b[1;32m      5\u001b[0m \u001b[0;32mfor\u001b[0m \u001b[0mpoint\u001b[0m \u001b[0;32min\u001b[0m \u001b[0mtqdm\u001b[0m\u001b[0;34m(\u001b[0m\u001b[0mSAMPLE\u001b[0m\u001b[0;34m)\u001b[0m\u001b[0;34m:\u001b[0m\u001b[0;34m\u001b[0m\u001b[0;34m\u001b[0m\u001b[0m\n",
            "\u001b[0;31mNameError\u001b[0m: name 'concurrent' is not defined"
          ]
        }
      ]
    },
    {
      "cell_type": "markdown",
      "source": [
        "## Inspect the written files\n",
        "\n",
        "The parsing function dynamically determines the shape and keys of each record, which may vary by point and year.  Once the data are parsed, they can be displayed as an animation: one year's worth of NDVI change in a patch centered on the point."
      ],
      "metadata": {
        "id": "-ecw45dSPF-J"
      }
    },
    {
      "cell_type": "code",
      "source": [
        "h_col = tf.io.FixedLenFeature(shape=(1), dtype=tf.float32)\n",
        "w_col = tf.io.FixedLenFeature(shape=(1), dtype=tf.float32)\n",
        "hw_dict = {'h': h_col, 'w': w_col}\n",
        "\n",
        "def parse_tfrecord(example_proto):\n",
        "  \"\"\"Parse a serialized example, dynamic determination of shape and keys.\"\"\"\n",
        "  hw = tf.io.parse_single_example(example_proto, hw_dict)\n",
        "  h = int(hw['h'].numpy())\n",
        "  w = int(hw['w'].numpy())\n",
        "\n",
        "  example = tf.train.Example()\n",
        "  example.ParseFromString(example_proto.numpy())\n",
        "  f_list = list(example.features.feature.keys())\n",
        "  f_dict = {e: tf.io.FixedLenFeature(shape=(h,w), dtype=tf.float32) for e in f_list if e not in ('h', 'w')}\n",
        "  return tf.io.parse_single_example(example_proto, f_dict)"
      ],
      "metadata": {
        "id": "wxcbEKQxaua9"
      },
      "execution_count": null,
      "outputs": []
    },
    {
      "cell_type": "code",
      "source": [
        "dataset = tf.data.TFRecordDataset(OUTPUT_FILE, compression_type='GZIP')\n",
        "parsed_data = [parse_tfrecord(rec) for rec in dataset]"
      ],
      "metadata": {
        "id": "v0eA8-ikbJUP"
      },
      "execution_count": null,
      "outputs": []
    },
    {
      "cell_type": "markdown",
      "source": [
        "### Get an animation of the data in a record\n",
        "\n",
        "See [this reference](https://matplotlib.org/stable/gallery/animation/dynamic_image.html) for details, including options to save the animation."
      ],
      "metadata": {
        "id": "w6JK6FUXMSkE"
      }
    },
    {
      "cell_type": "code",
      "source": [
        "array_dict = parsed_data[400]\n",
        "\n",
        "fig, ax = plt.subplots()\n",
        "\n",
        "# This order.\n",
        "images_names = np.sort(list(array_dict.keys()))\n",
        "first_image = images_names[0]\n",
        "\n",
        "ax.imshow(np.squeeze(array_dict[first_image]))  # show an initial one first\n",
        "ims = []\n",
        "for image in images_names[1:]:\n",
        "    im = ax.imshow(np.squeeze(array_dict[image]), animated=True)\n",
        "    ims.append([im])\n",
        "\n",
        "ani = animation.ArtistAnimation(fig, ims, interval=100, blit=True, repeat_delay=1000)\n",
        "ani"
      ],
      "metadata": {
        "id": "YoaiLbl9GCfz"
      },
      "execution_count": null,
      "outputs": []
    }
  ]
}